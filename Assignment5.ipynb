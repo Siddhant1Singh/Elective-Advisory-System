{
 "cells": [
  {
   "cell_type": "code",
   "execution_count": 1,
   "id": "39015371",
   "metadata": {},
   "outputs": [],
   "source": [
    "#importing libraries\n",
    "import pandas as pd\n",
    "import numpy as np\n"
   ]
  },
  {
   "cell_type": "code",
   "execution_count": 2,
   "id": "d5913b42",
   "metadata": {},
   "outputs": [],
   "source": [
    "import nltk\n",
    "from nltk.stem import WordNetLemmatizer \n",
    "from nltk.corpus import stopwords\n",
    "from nltk.tokenize import word_tokenize\n",
    "from nltk.stem import PorterStemmer"
   ]
  },
  {
   "cell_type": "code",
   "execution_count": 3,
   "id": "52c287c1",
   "metadata": {},
   "outputs": [],
   "source": [
    "import string\n"
   ]
  },
  {
   "cell_type": "code",
   "execution_count": 4,
   "id": "a787fe49",
   "metadata": {},
   "outputs": [
    {
     "name": "stderr",
     "output_type": "stream",
     "text": [
      "[nltk_data] Downloading package stopwords to\n",
      "[nltk_data]     C:\\Users\\siddh\\AppData\\Roaming\\nltk_data...\n",
      "[nltk_data]   Package stopwords is already up-to-date!\n",
      "[nltk_data] Downloading package punkt to\n",
      "[nltk_data]     C:\\Users\\siddh\\AppData\\Roaming\\nltk_data...\n",
      "[nltk_data]   Package punkt is already up-to-date!\n",
      "[nltk_data] Downloading package wordnet to\n",
      "[nltk_data]     C:\\Users\\siddh\\AppData\\Roaming\\nltk_data...\n",
      "[nltk_data]   Package wordnet is already up-to-date!\n",
      "[nltk_data] Downloading package omw-1.4 to\n",
      "[nltk_data]     C:\\Users\\siddh\\AppData\\Roaming\\nltk_data...\n",
      "[nltk_data]   Package omw-1.4 is already up-to-date!\n"
     ]
    },
    {
     "data": {
      "text/plain": [
       "True"
      ]
     },
     "execution_count": 4,
     "metadata": {},
     "output_type": "execute_result"
    }
   ],
   "source": [
    "nltk.download('stopwords')\n",
    "nltk.download('punkt')\n",
    "nltk.download('wordnet')\n",
    "nltk.download('omw-1.4')"
   ]
  },
  {
   "cell_type": "code",
   "execution_count": 5,
   "id": "586f03cf",
   "metadata": {},
   "outputs": [
    {
     "name": "stdout",
     "output_type": "stream",
     "text": [
      "My name is. I have courses ml, nlp and ai.\n"
     ]
    }
   ],
   "source": [
    "lis=list()\n",
    "sw=set(stopwords.words('english'))\n",
    "wl=WordNetLemmatizer()\n",
    "inp=input()\n",
    "inp1=inp.lower()\n",
    "\n",
    "for i in string.punctuation:\n",
    "    inp1=inp1.replace(i,' ')\n",
    "    \n"
   ]
  },
  {
   "cell_type": "code",
   "execution_count": 6,
   "id": "81a93b30",
   "metadata": {},
   "outputs": [],
   "source": [
    "inp1 = wl.lemmatize(inp1)    \n",
    "tk1 = word_tokenize(inp1)\n"
   ]
  },
  {
   "cell_type": "code",
   "execution_count": 7,
   "id": "54c479ce",
   "metadata": {},
   "outputs": [
    {
     "name": "stdout",
     "output_type": "stream",
     "text": [
      "ai dbms\n"
     ]
    }
   ],
   "source": [
    "\n",
    "\n",
    "for w in tk1:\n",
    "    if w not in sw:\n",
    "        lis.append(w)\n",
    "\n",
    "fl=open('Assig.pl','w')\n",
    "wl=['ai','nlp','ml','bigdata','datastream','datamining','basicelectro','digitalcircuit','vlsi']\n",
    "\n",
    "\n",
    "for j in wl:\n",
    "    if j in lis:\n",
    "        fl.write('crs({0}).\\n'.format(j))\n",
    "        \n",
    "inp2=input().lower().split()\n",
    "\n",
    "for i in inp2:\n",
    "\tfl.write('fld({0}).\\n'.format(i))\n",
    "fl.close()"
   ]
  },
  {
   "cell_type": "code",
   "execution_count": null,
   "id": "6772b177",
   "metadata": {},
   "outputs": [],
   "source": []
  },
  {
   "cell_type": "code",
   "execution_count": null,
   "id": "23ee1f84",
   "metadata": {},
   "outputs": [],
   "source": []
  }
 ],
 "metadata": {
  "kernelspec": {
   "display_name": "Python 3 (ipykernel)",
   "language": "python",
   "name": "python3"
  },
  "language_info": {
   "codemirror_mode": {
    "name": "ipython",
    "version": 3
   },
   "file_extension": ".py",
   "mimetype": "text/x-python",
   "name": "python",
   "nbconvert_exporter": "python",
   "pygments_lexer": "ipython3",
   "version": "3.9.12"
  }
 },
 "nbformat": 4,
 "nbformat_minor": 5
}
